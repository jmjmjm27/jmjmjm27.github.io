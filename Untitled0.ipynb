{
  "nbformat": 4,
  "nbformat_minor": 0,
  "metadata": {
    "colab": {
      "name": "Untitled0.ipynb",
      "provenance": [],
      "authorship_tag": "ABX9TyP8ycECktoyj2AsZSy6pNl+",
      "include_colab_link": true
    },
    "kernelspec": {
      "name": "python3",
      "display_name": "Python 3"
    }
  },
  "cells": [
    {
      "cell_type": "markdown",
      "metadata": {
        "id": "view-in-github",
        "colab_type": "text"
      },
      "source": [
        "<a href=\"https://colab.research.google.com/github/jmjmjm27/jmjmjm27.github.io/blob/master/Untitled0.ipynb\" target=\"_parent\"><img src=\"https://colab.research.google.com/assets/colab-badge.svg\" alt=\"Open In Colab\"/></a>"
      ]
    },
    {
      "cell_type": "markdown",
      "metadata": {
        "id": "2_37dXibwqBo",
        "colab_type": "text"
      },
      "source": [
        ""
      ]
    },
    {
      "cell_type": "markdown",
      "metadata": {
        "id": "z-otRvgpxAb4",
        "colab_type": "text"
      },
      "source": [
        "#1강 요약정리"
      ]
    },
    {
      "cell_type": "markdown",
      "metadata": {
        "id": "Pmktaf8sxVtd",
        "colab_type": "text"
      },
      "source": [
        "\n",
        "\n",
        "*   파이썬자료형\n",
        "\n"
      ]
    },
    {
      "cell_type": "code",
      "metadata": {
        "id": "JwqaM9iaxl1-",
        "colab_type": "code",
        "colab": {
          "base_uri": "https://localhost:8080/",
          "height": 35
        },
        "outputId": "d788b42f-7fe7-4ba4-8e57-4e8b4c3dcb2d"
      },
      "source": [
        " a = 123\n",
        " print('a : ' , type(a))"
      ],
      "execution_count": 1,
      "outputs": [
        {
          "output_type": "stream",
          "text": [
            "a :  <class 'int'>\n"
          ],
          "name": "stdout"
        }
      ]
    }
  ]
}